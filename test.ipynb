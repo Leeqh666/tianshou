{
 "metadata": {
  "language_info": {
   "codemirror_mode": {
    "name": "ipython",
    "version": 3
   },
   "file_extension": ".py",
   "mimetype": "text/x-python",
   "name": "python",
   "nbconvert_exporter": "python",
   "pygments_lexer": "ipython3",
   "version": "3.8.5-final"
  },
  "orig_nbformat": 2,
  "kernelspec": {
   "name": "python38564bittscondafd73dc01cc15498ca2445bc2dcfae0b7",
   "display_name": "Python 3.8.5 64-bit ('ts': conda)"
  }
 },
 "nbformat": 4,
 "nbformat_minor": 2,
 "cells": [
  {
   "cell_type": "code",
   "execution_count": 1,
   "metadata": {},
   "outputs": [],
   "source": [
    "from tianshou.data import ReplayBuffer"
   ]
  },
  {
   "cell_type": "code",
   "execution_count": 2,
   "metadata": {
    "tags": []
   },
   "outputs": [
    {
     "output_type": "stream",
     "name": "stdout",
     "text": "ReplayBuffer(\n    obs: Batch(\n             id: array([ 9, 10, 11, 12, 13, 14, 15,  7,  8]),\n         ),\n    act: array([ 9, 10, 11, 12, 13, 14, 15,  7,  8]),\n    rew: array([ 9, 10, 11, 12, 13, 14, 15,  7,  8]),\n    done: array([False,  True, False, False, False, False,  True, False, False]),\n    info: Batch(),\n    policy: Batch(),\n)\n"
    }
   ],
   "source": [
    "buf = ReplayBuffer(size=9, stack_num=4, ignore_obs_next=True)\n",
    "for i in range(16):\n",
    "    done = i % 5 == 0\n",
    "    buf.add(obs={'id':i}, act=i, rew=i, done=done, obs_next={'id':i+1})\n",
    "print(buf)"
   ]
  },
  {
   "cell_type": "code",
   "execution_count": 3,
   "metadata": {},
   "outputs": [],
   "source": [
    "import numpy as np"
   ]
  },
  {
   "cell_type": "code",
   "execution_count": 9,
   "metadata": {},
   "outputs": [
    {
     "output_type": "execute_result",
     "data": {
      "text/plain": "1"
     },
     "metadata": {},
     "execution_count": 9
    }
   ],
   "source": [
    "index = np.arange(len(buf))\n",
    "index.ndim"
   ]
  },
  {
   "cell_type": "code",
   "execution_count": 8,
   "metadata": {
    "tags": []
   },
   "outputs": [
    {
     "output_type": "stream",
     "name": "stdout",
     "text": "[[ 7  8  9 10]\n [11 11 11 11]]\n"
    }
   ],
   "source": [
    "print(buf.get([1,2], 'obs').id)"
   ]
  },
  {
   "cell_type": "code",
   "execution_count": 10,
   "metadata": {},
   "outputs": [],
   "source": [
    "from tianshou.data import Batch"
   ]
  },
  {
   "cell_type": "code",
   "execution_count": 25,
   "metadata": {},
   "outputs": [],
   "source": [
    "data = Batch(a=np.array([[0.0, 2.0], [1.0, 3.0], [3.0, 3.0]]), b=[[5, -5], [1, -2]])"
   ]
  },
  {
   "cell_type": "code",
   "execution_count": 26,
   "metadata": {
    "tags": []
   },
   "outputs": [
    {
     "output_type": "stream",
     "name": "stdout",
     "text": "2\n"
    }
   ],
   "source": [
    "print(len(data))"
   ]
  },
  {
   "cell_type": "code",
   "execution_count": 39,
   "metadata": {
    "tags": []
   },
   "outputs": [
    {
     "output_type": "stream",
     "name": "stdout",
     "text": "Batch(\n    a: array([[0., 3.],\n              [1., 4.],\n              [3., 4.]]),\n    b: array([[ 5, -4],\n              [ 1, -1]]),\n)\n"
    }
   ],
   "source": [
    "print(data)"
   ]
  },
  {
   "cell_type": "code",
   "execution_count": 27,
   "metadata": {
    "tags": []
   },
   "outputs": [
    {
     "output_type": "stream",
     "name": "stdout",
     "text": "[2, 2]\n"
    }
   ],
   "source": [
    "print(data.shape)"
   ]
  },
  {
   "cell_type": "code",
   "execution_count": 37,
   "metadata": {
    "tags": []
   },
   "outputs": [
    {
     "output_type": "stream",
     "name": "stdout",
     "text": "Batch(\n    a: array([0., 2.]),\n    b: array([ 5, -5]),\n)\nBatch(\n    a: array([1., 3.]),\n    b: array([ 1, -2]),\n)\n"
    }
   ],
   "source": [
    "for sample in data:\n",
    "    print(sample)"
   ]
  },
  {
   "cell_type": "code",
   "execution_count": 48,
   "metadata": {
    "tags": []
   },
   "outputs": [
    {
     "output_type": "stream",
     "name": "stdout",
     "text": "Batch(\n    a: array([[ 0., 10.],\n              [ 1.,  5.],\n              [ 3.,  5.]]),\n    b: array([[5, 3],\n              [1, 0]]),\n)\n"
    }
   ],
   "source": [
    "data[:,1] += 1\n",
    "print(data)"
   ]
  },
  {
   "cell_type": "code",
   "execution_count": 49,
   "metadata": {},
   "outputs": [
    {
     "output_type": "execute_result",
     "data": {
      "text/plain": "array([[ 0., 10.],\n       [ 1.,  5.],\n       [ 3.,  5.]])"
     },
     "metadata": {},
     "execution_count": 49
    }
   ],
   "source": [
    "data.a"
   ]
  },
  {
   "cell_type": "code",
   "execution_count": 50,
   "metadata": {},
   "outputs": [],
   "source": [
    "data = Batch(a=[5., 4.], b=np.zeros((2,3,4)))"
   ]
  },
  {
   "cell_type": "code",
   "execution_count": 52,
   "metadata": {},
   "outputs": [
    {
     "output_type": "execute_result",
     "data": {
      "text/plain": "Batch(\n    a: 5.0,\n    b: array([[0., 0., 0., 0.],\n              [0., 0., 0., 0.],\n              [0., 0., 0., 0.]]),\n)"
     },
     "metadata": {},
     "execution_count": 52
    }
   ],
   "source": [
    "data[0]"
   ]
  },
  {
   "cell_type": "code",
   "execution_count": 68,
   "metadata": {},
   "outputs": [],
   "source": [
    "b = Batch({'state': [None, None], 'c':[2., 'st'], 'd':[1., 0.]})    "
   ]
  },
  {
   "cell_type": "code",
   "execution_count": 79,
   "metadata": {},
   "outputs": [
    {
     "output_type": "execute_result",
     "data": {
      "text/plain": "'2.0'"
     },
     "metadata": {},
     "execution_count": 79
    }
   ],
   "source": []
  },
  {
   "cell_type": "code",
   "execution_count": 56,
   "metadata": {},
   "outputs": [],
   "source": [
    "data = Batch(a=[False, True], b=b)"
   ]
  },
  {
   "cell_type": "code",
   "execution_count": 58,
   "metadata": {},
   "outputs": [
    {
     "output_type": "execute_result",
     "data": {
      "text/plain": "(Batch(\n     a: array([False,  True]),\n     b: Batch(\n            c: array(['2.0', 'st'], dtype=object),\n            d: array([1., 0.]),\n        ),\n ),\n Batch(\n     a: False,\n     b: Batch(\n            c: '2.0',\n            d: 1.0,\n        ),\n ),\n Batch(\n     a: True,\n     b: Batch(\n            c: 'st',\n            d: 0.0,\n        ),\n ))"
     },
     "metadata": {},
     "execution_count": 58
    }
   ],
   "source": [
    "data, data[0], data[1]"
   ]
  },
  {
   "cell_type": "code",
   "execution_count": 59,
   "metadata": {
    "tags": []
   },
   "outputs": [
    {
     "output_type": "stream",
     "name": "stderr",
     "text": "/home/leeqh/anaconda3/envs/ts/lib/python3.8/site-packages/tianshou-0.2.6-py3.8.egg/tianshou/data/batch.py:620: UserWarning: You are calling Batch.empty on a NumPy scalar, which may cause undefined behaviors.\n  warnings.warn('You are calling Batch.empty on a NumPy scalar, '\n"
    }
   ],
   "source": [
    "data[0] = Batch.empty(data[1])"
   ]
  },
  {
   "cell_type": "code",
   "execution_count": 60,
   "metadata": {},
   "outputs": [
    {
     "output_type": "execute_result",
     "data": {
      "text/plain": "Batch(\n    a: array([False,  True]),\n    b: Batch(\n           c: array([None, 'st'], dtype=object),\n           d: array([0., 0.]),\n       ),\n)"
     },
     "metadata": {},
     "execution_count": 60
    }
   ],
   "source": [
    "data"
   ]
  }
 ]
}